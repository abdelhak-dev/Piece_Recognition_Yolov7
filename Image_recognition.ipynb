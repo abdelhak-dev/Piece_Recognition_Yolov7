{
 "cells": [
  {
   "cell_type": "code",
   "execution_count": 1,
   "id": "fe5ecbd3",
   "metadata": {},
   "outputs": [],
   "source": [
    "import cv2\n",
    "import matplotlib.pyplot as plt\n"
   ]
  },
  {
   "cell_type": "code",
   "execution_count": null,
   "id": "17faab86",
   "metadata": {},
   "outputs": [],
   "source": []
  }
 ],
 "metadata": {
  "kernelspec": {
   "display_name": "Python 3 (ipykernel)",
   "language": "python",
   "name": "python3"
  },
  "language_info": {
   "codemirror_mode": {
    "name": "ipython",
    "version": 3
   },
   "file_extension": ".py",
   "mimetype": "text/x-python",
   "name": "python",
   "nbconvert_exporter": "python",
   "pygments_lexer": "ipython3",
   "version": "3.9.13"
  },
  "vscode": {
   "interpreter": {
    "hash": "1711be3fcae7d1b35c00f63e9388dc207c8b62d39bb68cb33e8e9e3c4a044a28"
   }
  }
 },
 "nbformat": 4,
 "nbformat_minor": 5
}
